{
 "cells": [
  {
   "cell_type": "markdown",
   "id": "70a035c3",
   "metadata": {},
   "source": [
    "# Первое задание.\n",
    "Реализуйте XOR с помощью 3 нейронов."
   ]
  },
  {
   "cell_type": "code",
   "execution_count": 3,
   "id": "04769d34",
   "metadata": {},
   "outputs": [],
   "source": [
    "import torch \n",
    "class Neuron(torch.nn.Module):\n",
    "  def __init__(self):\n",
    "    super().__init__()\n",
    "    self.fc = torch.nn.Linear(2, 1)\n",
    "\n",
    "  def forward(self, x):\n",
    "    return torch.heaviside(self.fc(x), torch.tensor([0.0]))\n"
   ]
  },
  {
   "cell_type": "code",
   "execution_count": 32,
   "id": "d0dc6407",
   "metadata": {},
   "outputs": [],
   "source": [
    "neuron1 = Neuron()\n",
    "neuron1.fc.weight.data = torch.tensor([[0.5, 0.5]])\n",
    "neuron1.fc.bias.data = torch.tensor([-0.9])\n",
    "neuron0 = Neuron()\n",
    "neuron0.fc.weight.data = torch.tensor([[-1.0, -1.0]])\n",
    "neuron0.fc.bias.data = torch.tensor([1.0])\n",
    "neuronEND = Neuron()\n",
    "neuronEND.fc.weight.data = torch.tensor([[-1.0, -1.0]])\n",
    "neuronEND.fc.bias.data = torch.tensor([1.0])"
   ]
  },
  {
   "cell_type": "code",
   "execution_count": 36,
   "id": "69b190eb",
   "metadata": {},
   "outputs": [
    {
     "name": "stdout",
     "output_type": "stream",
     "text": [
      "tensor([0.], grad_fn=<NotImplemented>) tensor([1.], grad_fn=<NotImplemented>)\n"
     ]
    },
    {
     "data": {
      "text/plain": [
       "tensor([0.], grad_fn=<NotImplemented>)"
      ]
     },
     "execution_count": 36,
     "metadata": {},
     "output_type": "execute_result"
    }
   ],
   "source": [
    "x = torch.tensor([0.0, 0.0])\n",
    "print(neuron1(x), neuron0(x))\n",
    "y = torch.tensor([neuron1(x), neuron0(x)])\n",
    "neuronEND(y)"
   ]
  },
  {
   "cell_type": "markdown",
   "id": "5ce240c6",
   "metadata": {},
   "source": [
    "# Второе задание(.jpg в репозитории)\n",
    "Нарисуйте backward граф для выражения a*b+c*d"
   ]
  },
  {
   "cell_type": "code",
   "execution_count": 37,
   "id": "b4237457",
   "metadata": {},
   "outputs": [
    {
     "name": "stdout",
     "output_type": "stream",
     "text": [
      "None\n",
      "tensor([4.])\n"
     ]
    }
   ],
   "source": [
    "a = torch.tensor([2.0], requires_grad=True)\n",
    "b = torch.tensor([4.0], requires_grad=True)\n",
    "c = torch.tensor([1.0], requires_grad=True)\n",
    "d = torch.tensor([5.0], requires_grad=False)\n",
    "print(a.grad)\n",
    "loss = a*b + c*d\n",
    "loss.backward()\n",
    "print(a.grad)"
   ]
  },
  {
   "cell_type": "markdown",
   "id": "e200ce71",
   "metadata": {},
   "source": [
    "# Третье задание\n",
    "Поэксперементируйте с размером тензоров, которые влезут на видеоркарту в Colab. Найдите максимальный размер тензора для\n",
    "типа данных float32, float64, float16, int32, int64. На сколько они отличаются."
   ]
  },
  {
   "cell_type": "code",
   "execution_count": null,
   "id": "775ee55e",
   "metadata": {},
   "outputs": [],
   "source": [
    "def allocate_empty_tensor(dim_size):\n",
    "    a=torch.zeros(4096,dim_size,dtype=torch.int64,device='cuda')\n",
    "torch.cuda.empty_cache()\n",
    "allocate_empty_tensor(100000)\n",
    "\n",
    "Sfloat16 = 822083584\n",
    "Sfloat32 = 1824522240\n",
    "Sfloat64 = 5102370816\n",
    "Sint32 =   1642070016\n",
    "Sint64 =   3279945728\n",
    "\n",
    "torch.cuda.memory_reserved()"
   ]
  },
  {
   "cell_type": "markdown",
   "id": "96629b1f",
   "metadata": {},
   "source": [
    "# Четвёртое задание\n",
    "Напишите хороший пример неэффективного кода для занятия памяти видеокарты, который вызовет ошибку out of memory"
   ]
  },
  {
   "cell_type": "code",
   "execution_count": 46,
   "id": "445c237f",
   "metadata": {},
   "outputs": [
    {
     "ename": "AssertionError",
     "evalue": "Torch not compiled with CUDA enabled",
     "output_type": "error",
     "traceback": [
      "\u001b[1;31m---------------------------------------------------------------------------\u001b[0m",
      "\u001b[1;31mAssertionError\u001b[0m                            Traceback (most recent call last)",
      "Input \u001b[1;32mIn [46]\u001b[0m, in \u001b[0;36m<cell line: 3>\u001b[1;34m()\u001b[0m\n\u001b[0;32m      2\u001b[0m total \u001b[38;5;241m=\u001b[39m [torch\u001b[38;5;241m.\u001b[39mrand(\u001b[38;5;241m1000\u001b[39m, \u001b[38;5;241m1000\u001b[39m)]\n\u001b[0;32m      3\u001b[0m \u001b[38;5;28;01mwhile\u001b[39;00m i \u001b[38;5;241m<\u001b[39m \u001b[38;5;241m9223372036854775807\u001b[39m \u001b[38;5;241m+\u001b[39m \u001b[38;5;241m1\u001b[39m:\n\u001b[1;32m----> 4\u001b[0m     \u001b[38;5;28mlist\u001b[39m \u001b[38;5;241m=\u001b[39m [\u001b[43mtorch\u001b[49m\u001b[38;5;241;43m.\u001b[39;49m\u001b[43mrand\u001b[49m\u001b[43m(\u001b[49m\u001b[38;5;241;43m10000\u001b[39;49m\u001b[43m,\u001b[49m\u001b[43m \u001b[49m\u001b[38;5;241;43m10000\u001b[39;49m\u001b[43m,\u001b[49m\u001b[43m \u001b[49m\u001b[43mdevice\u001b[49m\u001b[43m \u001b[49m\u001b[38;5;241;43m=\u001b[39;49m\u001b[43m \u001b[49m\u001b[38;5;124;43m'\u001b[39;49m\u001b[38;5;124;43mcuda\u001b[39;49m\u001b[38;5;124;43m'\u001b[39;49m\u001b[43m)\u001b[49m]\n\u001b[0;32m      5\u001b[0m     total\u001b[38;5;241m.\u001b[39mappend(\u001b[38;5;28mlist\u001b[39m)\n",
      "File \u001b[1;32m~\\anaconda3\\lib\\site-packages\\torch\\cuda\\__init__.py:221\u001b[0m, in \u001b[0;36m_lazy_init\u001b[1;34m()\u001b[0m\n\u001b[0;32m    217\u001b[0m     \u001b[38;5;28;01mraise\u001b[39;00m \u001b[38;5;167;01mRuntimeError\u001b[39;00m(\n\u001b[0;32m    218\u001b[0m         \u001b[38;5;124m\"\u001b[39m\u001b[38;5;124mCannot re-initialize CUDA in forked subprocess. To use CUDA with \u001b[39m\u001b[38;5;124m\"\u001b[39m\n\u001b[0;32m    219\u001b[0m         \u001b[38;5;124m\"\u001b[39m\u001b[38;5;124mmultiprocessing, you must use the \u001b[39m\u001b[38;5;124m'\u001b[39m\u001b[38;5;124mspawn\u001b[39m\u001b[38;5;124m'\u001b[39m\u001b[38;5;124m start method\u001b[39m\u001b[38;5;124m\"\u001b[39m)\n\u001b[0;32m    220\u001b[0m \u001b[38;5;28;01mif\u001b[39;00m \u001b[38;5;129;01mnot\u001b[39;00m \u001b[38;5;28mhasattr\u001b[39m(torch\u001b[38;5;241m.\u001b[39m_C, \u001b[38;5;124m'\u001b[39m\u001b[38;5;124m_cuda_getDeviceCount\u001b[39m\u001b[38;5;124m'\u001b[39m):\n\u001b[1;32m--> 221\u001b[0m     \u001b[38;5;28;01mraise\u001b[39;00m \u001b[38;5;167;01mAssertionError\u001b[39;00m(\u001b[38;5;124m\"\u001b[39m\u001b[38;5;124mTorch not compiled with CUDA enabled\u001b[39m\u001b[38;5;124m\"\u001b[39m)\n\u001b[0;32m    222\u001b[0m \u001b[38;5;28;01mif\u001b[39;00m _cudart \u001b[38;5;129;01mis\u001b[39;00m \u001b[38;5;28;01mNone\u001b[39;00m:\n\u001b[0;32m    223\u001b[0m     \u001b[38;5;28;01mraise\u001b[39;00m \u001b[38;5;167;01mAssertionError\u001b[39;00m(\n\u001b[0;32m    224\u001b[0m         \u001b[38;5;124m\"\u001b[39m\u001b[38;5;124mlibcudart functions unavailable. It looks like you have a broken build?\u001b[39m\u001b[38;5;124m\"\u001b[39m)\n",
      "\u001b[1;31mAssertionError\u001b[0m: Torch not compiled with CUDA enabled"
     ]
    }
   ],
   "source": [
    "i = 0\n",
    "total = [torch.rand(1000, 1000)]\n",
    "while i < 9223372036854775807 + 1:\n",
    "    list = [torch.rand(10000, 10000, device = 'cuda')]\n",
    "    total.append(list)\n",
    "# на моём ноуте нет видеокарты, поэтому у меня не работает, но на колабе всё запускается.\n",
    "    "
   ]
  },
  {
   "cell_type": "markdown",
   "id": "63ba8b9b",
   "metadata": {},
   "source": [
    "# Пятое задание"
   ]
  },
  {
   "cell_type": "code",
   "execution_count": 45,
   "id": "f100ce04",
   "metadata": {},
   "outputs": [
    {
     "name": "stderr",
     "output_type": "stream",
     "text": [
      "\"nvcc\" не является внутренней или внешней\n",
      "командой, исполняемой программой или пакетным файлом.\n"
     ]
    }
   ],
   "source": [
    "for i in range(138000000, 9223372036854775807 + 1):\n",
    "    print (i)\n",
    "    layer = torch.nn.Linear(i, 1, device='cuda')\n",
    "    input = torch.tensor(torch.rand(1, i, device = 'cuda'))\n",
    "    output = layer(input)\n",
    "    torch.cuda.empty_cache()\n",
    "max = 138000028 # На гугл колабе "
   ]
  }
 ],
 "metadata": {
  "kernelspec": {
   "display_name": "Python 3 (ipykernel)",
   "language": "python",
   "name": "python3"
  },
  "language_info": {
   "codemirror_mode": {
    "name": "ipython",
    "version": 3
   },
   "file_extension": ".py",
   "mimetype": "text/x-python",
   "name": "python",
   "nbconvert_exporter": "python",
   "pygments_lexer": "ipython3",
   "version": "3.9.12"
  }
 },
 "nbformat": 4,
 "nbformat_minor": 5
}
